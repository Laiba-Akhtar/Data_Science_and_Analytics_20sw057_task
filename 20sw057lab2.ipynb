{
  "nbformat": 4,
  "nbformat_minor": 0,
  "metadata": {
    "colab": {
      "provenance": []
    },
    "kernelspec": {
      "name": "python3",
      "display_name": "Python 3"
    },
    "language_info": {
      "name": "python"
    }
  },
  "cells": [
    {
      "cell_type": "code",
      "execution_count": 15,
      "metadata": {
        "colab": {
          "base_uri": "https://localhost:8080/"
        },
        "id": "0OU7l8bMwktK",
        "outputId": "31f7b9f0-8ac5-47fb-b3d2-fd45b2501e64"
      },
      "outputs": [
        {
          "output_type": "stream",
          "name": "stdout",
          "text": [
            "Enter points you score:174\n",
            "Congratulation! you won a water thin mint\n"
          ]
        }
      ],
      "source": [
        "#TASK1\n",
        "#points = 174  # use this input to make your submission\n",
        "# write your if statement hereprint(result)\n",
        "prize=[\"wooden price\",\"no prize\",\"water thin mint\",\"penguin\"];\n",
        "result=\"\"\n",
        "points=int(input(\"Enter points you score:\"))\n",
        "if(points>=1 and points<=200):\n",
        "\n",
        " if(1 <= points <= 50):\n",
        "  result=\"Congratulation! you won a {}\".format(prize[0])\n",
        " elif(51 <= points <= 150):\n",
        "  result=\"oh dear {} this time\".format(prize[1])\n",
        " elif(151 <= points <= 180):\n",
        "  result=\"Congratulation! you won a {}\".format(prize[2])\n",
        " elif(181 <= points <= 200):\n",
        "  result=\"Congratulation! you won a {}\".format(prize[3])\n",
        "print(result)"
      ]
    },
    {
      "cell_type": "code",
      "source": [
        "#TASK2\n",
        "# '''# You decide you want to play a game where you are hiding # a number from someone.  Store this number in a variable\n",
        "# called 'answer'.  Another user provides a number called# 'guess'.  By comparing guess to answer, you inform the user\n",
        "# if their guess is too high or too low.\n",
        "\n",
        "answer = 7\n",
        "answerguess =int(input(\"Enter your guess number:\"))\n",
        "if answerguess>answer:\n",
        " result = \"Oops!  Your guess was too high.\"\n",
        "elif answerguess<answer:\n",
        " result = \"Oops!  Your guess was too low.\"\n",
        "elif answerguess==answer:\n",
        " result = \"Nice!  Your guess matched the answer!\"\n",
        "else:\n",
        "  result=\"\";\n",
        "print(result)\n"
      ],
      "metadata": {
        "colab": {
          "base_uri": "https://localhost:8080/"
        },
        "id": "Exf0X6sUzwOx",
        "outputId": "870cd02c-6db3-4608-9657-d66798ac0ed5"
      },
      "execution_count": 16,
      "outputs": [
        {
          "output_type": "stream",
          "name": "stdout",
          "text": [
            "Enter your guess number:6\n",
            "Oops!  Your guess was too low.\n"
          ]
        }
      ]
    },
    {
      "cell_type": "code",
      "source": [
        "#Task#03\n",
        "#Tax PurchaseDepending on where an individual is fromwe need to tax them appropriately.\n",
        "#The states of CA, MN, and NY have taxes of 7.5%, 9.5%, and 8.9% respectively.\n",
        "#Use this information to take the amount of a purchase and the corresponding state to assure that they are taxed by the right amount.\n",
        "taxratio={\n",
        "\"CA\":7.5/100,\n",
        "\"MN\":9.5/100,\n",
        "\"NY\":8.9/100}\n",
        "state=input(\"Enter state:\")\n",
        "purchase=int(input(\"Enter purchase:\"))\n",
        "if state in taxratio:\n",
        "  tax=purchase*taxratio[state]\n",
        "  total_amount=purchase+tax\n",
        "\n",
        "print(\"Total amount=\",total_amount)\n",
        "\n",
        "\n"
      ],
      "metadata": {
        "colab": {
          "base_uri": "https://localhost:8080/"
        },
        "id": "kCOA6Vxp2K4K",
        "outputId": "ee5794e3-87fc-4520-8a2b-3b4dedb161a7"
      },
      "execution_count": 17,
      "outputs": [
        {
          "output_type": "stream",
          "name": "stdout",
          "text": [
            "Enter state:MN\n",
            "Enter purchase:700\n",
            "Total amount= 766.5\n"
          ]
        }
      ]
    },
    {
      "cell_type": "code",
      "source": [
        "#TASK 9\n",
        "#Usezipto create a dictionarycastthat usesnamesas keys andheightsas values.\n",
        "\n",
        "cast_names = [\"Barney\", \"Robin\", \"Ted\", \"Lily\", \"Marshall\"]\n",
        "cast_heights = [72, 68, 72, 66, 76]\n",
        "cast = { name:height for name,height in zip(cast_names,cast_heights)}\n",
        "#by loop\n",
        "for name,height in cast.items():\n",
        "  print(\"{}:{}\".format(name,height))\n",
        "print(cast)\n",
        "\n",
        "#cast = {name: height for name, height in zip(cast_names, cast_heights)}"
      ],
      "metadata": {
        "colab": {
          "base_uri": "https://localhost:8080/"
        },
        "id": "N1HOMRIY36QG",
        "outputId": "8b0e9349-8753-4479-a6e6-a506f7b7aff4"
      },
      "execution_count": 5,
      "outputs": [
        {
          "output_type": "stream",
          "name": "stdout",
          "text": [
            "Barney:72\n",
            "Robin:68\n",
            "Ted:72\n",
            "Lily:66\n",
            "Marshall:76\n",
            "{'Barney': 72, 'Robin': 68, 'Ted': 72, 'Lily': 66, 'Marshall': 76}\n"
          ]
        }
      ]
    },
    {
      "cell_type": "code",
      "source": [
        "#TASK 10\n",
        "#Useenumerateto modify thecastlist so that each element contains the name followed by the character's corresponding height.\n",
        "# For example, the first element ofcastshould change from\"BarneyStinson\"to\"BarneyStinson72\".\n",
        "cast = [\"Barney Stinson\", \"Robin Scherbatsky\", \"Ted Mosby\", \"Lily Aldrin\", \"Marshall Eriksen\"]\n",
        "heights = [72, 68, 72, 66, 76]\n",
        "# write your for loop hereprint(cast)\n",
        "for index, name in enumerate(cast):\n",
        "    cast[index] = name + str(heights[index])\n",
        "print(cast)"
      ],
      "metadata": {
        "colab": {
          "base_uri": "https://localhost:8080/"
        },
        "id": "g-fwdgMz585U",
        "outputId": "7fc0a3d5-9391-4558-d6a7-ef68b5b7eec7"
      },
      "execution_count": 4,
      "outputs": [
        {
          "output_type": "stream",
          "name": "stdout",
          "text": [
            "['Barney Stinson72', 'Robin Scherbatsky68', 'Ted Mosby72', 'Lily Aldrin66', 'Marshall Eriksen76']\n"
          ]
        }
      ]
    },
    {
      "cell_type": "code",
      "source": [
        "#TASk8\n",
        "#Use a list comprehension to create a list of namespassedthat only include those that scored at least 65.\n",
        "scores = {\n",
        "    \"Rick Sanchez\": 70,\n",
        "    \"Morty Smith\": 35,\n",
        "    \"Summer Smith\": 82,\n",
        "    \"Jerry Smith\": 23,\n",
        "    \"Beth Smith\": 98\n",
        "}\n",
        "\n",
        "#  list comprehension to filter names with a score of at least 65\n",
        "passed_Students = [name for name, score in scores.items() if score >= 65]\n",
        "\n",
        "# Printing the 'passed' list\n",
        "print(passed_Students)"
      ],
      "metadata": {
        "colab": {
          "base_uri": "https://localhost:8080/"
        },
        "id": "EKcWaZWX79yU",
        "outputId": "957e0b50-10c9-4825-d0b5-5cca01b1e6ee"
      },
      "execution_count": 6,
      "outputs": [
        {
          "output_type": "stream",
          "name": "stdout",
          "text": [
            "['Rick Sanchez', 'Summer Smith', 'Beth Smith']\n"
          ]
        }
      ]
    },
    {
      "cell_type": "code",
      "source": [
        "#Task#07\n",
        "#Multiples of ThreeUse a list comprehension to create a listmultiples_3containing the first 20 multiples of 3.\n",
        "multiples_3=[i * 3 for i in range(1, 21)]\n",
        "print(multiples_3)"
      ],
      "metadata": {
        "colab": {
          "base_uri": "https://localhost:8080/"
        },
        "id": "H34N6GQy9TQL",
        "outputId": "b94ae4a3-cc37-45cc-8b57-0faff0c100e5"
      },
      "execution_count": 7,
      "outputs": [
        {
          "output_type": "stream",
          "name": "stdout",
          "text": [
            "[3, 6, 9, 12, 15, 18, 21, 24, 27, 30, 33, 36, 39, 42, 45, 48, 51, 54, 57, 60]\n"
          ]
        }
      ]
    },
    {
      "cell_type": "code",
      "source": [
        "#TASK#5\n",
        "#Multiples of 5Write aforloop below that will print out every whole number that is a multiple of 5 and less than or equal to 30.\n",
        "multiples_5=[i for i in range(1,31) if i%5==0 ]\n",
        "print(multiples_5)"
      ],
      "metadata": {
        "colab": {
          "base_uri": "https://localhost:8080/"
        },
        "id": "5HK4K5wR-McW",
        "outputId": "ef473a4c-8ed4-4bd3-dca5-a7771f409f2e"
      },
      "execution_count": 21,
      "outputs": [
        {
          "output_type": "stream",
          "name": "stdout",
          "text": [
            "[5, 10, 15, 20, 25, 30]\n"
          ]
        }
      ]
    },
    {
      "cell_type": "code",
      "source": [
        "#Task#04\n",
        "#Use aforloopto take a list and print each element of the list in its own line.\n",
        "sentence = [\"the\", \"quick\", \"brown\", \"fox\", \"jumped\", \"over\", \"the\", \"lazy\", \"dog\"]\n",
        "for i in  range(len(sentence)):\n",
        "  print(sentence[i])"
      ],
      "metadata": {
        "colab": {
          "base_uri": "https://localhost:8080/"
        },
        "id": "ND9BPle0-4U2",
        "outputId": "ba5ab299-eaa9-4cdd-e5d7-de768e67d936"
      },
      "execution_count": 19,
      "outputs": [
        {
          "output_type": "stream",
          "name": "stdout",
          "text": [
            "the\n",
            "quick\n",
            "brown\n",
            "fox\n",
            "jumped\n",
            "over\n",
            "the\n",
            "lazy\n",
            "dog\n"
          ]
        }
      ]
    },
    {
      "cell_type": "code",
      "source": [
        "#Task#06\n",
        "#Extract First NamesUse a list comprehension to create a new listfirst_namescontaining just the first names innamesin lowercase.\n",
        "names = [\"Rick Sanchez\", \"Morty Smith\", \"Summer Smith\", \"Jerry Smith\", \"Beth Smith\"]\n",
        "first_names = [name.split()[0].lower() for name in names ]\n",
        "print(first_names)"
      ],
      "metadata": {
        "id": "hT53u18IAt5S",
        "colab": {
          "base_uri": "https://localhost:8080/"
        },
        "outputId": "ba83c1a9-f55a-4ba7-d700-f65670a5b159"
      },
      "execution_count": 22,
      "outputs": [
        {
          "output_type": "stream",
          "name": "stdout",
          "text": [
            "['rick', 'morty', 'summer', 'jerry', 'beth']\n"
          ]
        }
      ]
    },
    {
      "cell_type": "code",
      "source": [],
      "metadata": {
        "id": "NzA1cbE7_pqe"
      },
      "execution_count": null,
      "outputs": []
    }
  ]
}