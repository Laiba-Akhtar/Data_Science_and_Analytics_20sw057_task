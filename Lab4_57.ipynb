{
  "nbformat": 4,
  "nbformat_minor": 0,
  "metadata": {
    "colab": {
      "provenance": [],
      "authorship_tag": "ABX9TyOO7DGy/EX1SkTXIUhYAeSC",
      "include_colab_link": true
    },
    "kernelspec": {
      "name": "python3",
      "display_name": "Python 3"
    },
    "language_info": {
      "name": "python"
    }
  },
  "cells": [
    {
      "cell_type": "markdown",
      "metadata": {
        "id": "view-in-github",
        "colab_type": "text"
      },
      "source": [
        "<a href=\"https://colab.research.google.com/github/Laiba-Akhtar/Data_Science_and_Analytics_20sw057_task/blob/main/Lab4_57.ipynb\" target=\"_parent\"><img src=\"https://colab.research.google.com/assets/colab-badge.svg\" alt=\"Open In Colab\"/></a>"
      ]
    },
    {
      "cell_type": "code",
      "execution_count": 10,
      "metadata": {
        "colab": {
          "base_uri": "https://localhost:8080/"
        },
        "id": "4NCqPU7oqxQv",
        "outputId": "dcf283fd-9051-454f-9f56-66490bf21439"
      },
      "outputs": [
        {
          "output_type": "stream",
          "name": "stdout",
          "text": [
            "[[ 2  4  6  8]\n",
            " [10 12 14 16]\n",
            " [18 20 22 24]\n",
            " [26 28 30 32]]\n"
          ]
        }
      ],
      "source": [
        "#TASK 1\n",
        "import numpy as np\n",
        "\n",
        "# Using the Built-in functions you learned about in the\n",
        "\n",
        "# previous lesson, create a 4 x 4 ndarray that only\n",
        "\n",
        "# contains consecutive even numbers from 2 to 32 (inclusive)\n",
        "\n",
        "X = np.arange(2, 33, 2).reshape(4, 4)\n",
        "\n",
        "print(X)"
      ]
    },
    {
      "cell_type": "code",
      "source": [
        "#TASK 2\n",
        "import numpy as np\n",
        "\n",
        "# Create a 5 x 5 ndarray with consecutive integers from 1 to 25 (inclusive).\n",
        "array=np.arange(1,26).reshape(5,5)\n",
        "\n",
        "# Afterwards use Boolean indexing to pick out only the odd numbers in the array\n",
        "odd_num=array[array%2==1]\n",
        "\n",
        "# Create a 5 x 5 ndarray with consecutive integers from 1 to 25 (inclusive).\n",
        "\n",
        "X =np.arange(1,26).reshape(5,5)\n",
        "print(X)\n",
        "\n",
        "# Use Boolean indexing to pick out only the odd numbers in the array\n",
        "\n",
        "Y =array[array%2==1]\n",
        "print(Y)"
      ],
      "metadata": {
        "colab": {
          "base_uri": "https://localhost:8080/"
        },
        "id": "DzITelQy0cR7",
        "outputId": "ebee7a83-8334-4ed4-c1ef-cfe17e5d73f9"
      },
      "execution_count": 18,
      "outputs": [
        {
          "output_type": "stream",
          "name": "stdout",
          "text": [
            "[[ 1  2  3  4  5]\n",
            " [ 6  7  8  9 10]\n",
            " [11 12 13 14 15]\n",
            " [16 17 18 19 20]\n",
            " [21 22 23 24 25]]\n",
            "[ 1  3  5  7  9 11 13 15 17 19 21 23 25]\n"
          ]
        }
      ]
    },
    {
      "cell_type": "code",
      "source": [
        "#task 3\n",
        "import numpy as np\n",
        "\n",
        "# Use Broadcasting to create a 4 x 4 ndarray that has its first\n",
        "#here broadcasting occur as the numpy expand dimensions\n",
        "\n",
        "# column full of 1s, its second column full of 2s, its third\n",
        "\n",
        "# column full of 3s, etc..\n",
        "\n",
        "X = np.arange(1, 5).reshape(4, 1) * np.ones((1, 4))\n",
        "\n",
        "print(X)"
      ],
      "metadata": {
        "colab": {
          "base_uri": "https://localhost:8080/"
        },
        "id": "Kz11gb1b1t3J",
        "outputId": "3b06c904-a9e2-4b7b-e968-b3546429d601"
      },
      "execution_count": 28,
      "outputs": [
        {
          "output_type": "stream",
          "name": "stdout",
          "text": [
            "[[1. 1. 1. 1.]\n",
            " [2. 2. 2. 2.]\n",
            " [3. 3. 3. 3.]\n",
            " [4. 4. 4. 4.]]\n"
          ]
        }
      ]
    }
  ]
}