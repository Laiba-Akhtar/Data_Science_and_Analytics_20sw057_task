{
  "cells": [
    {
      "cell_type": "markdown",
      "metadata": {
        "id": "view-in-github",
        "colab_type": "text"
      },
      "source": [
        "<a href=\"https://colab.research.google.com/github/Laiba-Akhtar/Data_Science_and_Analytics_20sw057_task/blob/main/Mean_Normalization_and_Data_SeparationLab_4_57.ipynb\" target=\"_parent\"><img src=\"https://colab.research.google.com/assets/colab-badge.svg\" alt=\"Open In Colab\"/></a>"
      ]
    },
    {
      "cell_type": "markdown",
      "metadata": {
        "id": "ugq0ccRRq-vN"
      },
      "source": [
        "# Mean Normalization\n",
        "\n",
        "In machine learning we use large amounts of data to train our models. Some machine learning algorithms may require that the data is *normalized* in order to work correctly. The idea of normalization, also known as *feature scaling*, is to ensure that all the data is on a similar scale, *i.e.* that all the data takes on a similar range of values. For example, we might have a dataset that has values between 0 and 5,000. By normalizing the data we can make the range of values be between 0 and 1.\n",
        "\n",
        "In this lab, you will be performing a different kind of feature scaling known as *mean normalization*. Mean normalization will scale the data, but instead of making the values be between 0 and 1, it will distribute the values evenly in some small interval around zero. For example, if we have a dataset that has values between 0 and 5,000, after mean normalization the range of values will be distributed in some small range around 0, for example between -3 to 3. Because the range of values are distributed evenly around zero, this guarantees that the average (mean) of all elements will be zero. Therefore, when you perform *mean normalization* your data will not only be scaled but it will also have an average of zero.\n",
        "\n",
        "# To Do:\n",
        "\n",
        "You will start by importing NumPy and creating a rank 2 ndarray of random integers between 0 and 5,000 (inclusive) with 1000 rows and 20 columns. This array will simulate a dataset with a wide range of values. Fill in the code below"
      ]
    },
    {
      "cell_type": "code",
      "execution_count": 7,
      "metadata": {
        "colab": {
          "base_uri": "https://localhost:8080/"
        },
        "id": "aNnvLUG7q-vd",
        "outputId": "d0851d9a-538e-4dce-e887-0e0367a9a41f"
      },
      "outputs": [
        {
          "output_type": "execute_result",
          "data": {
            "text/plain": [
              "array([[1469, 3098,  799, ..., 4915, 3511, 2403],\n",
              "       [2946, 1825,  966, ...,  981,  127, 1711],\n",
              "       [3465, 4063, 3850, ..., 2117,  567,  959],\n",
              "       ...,\n",
              "       [1349, 2674, 1374, ..., 1222, 3413,  669],\n",
              "       [1837, 1825,  111, ..., 1343, 2048, 4819],\n",
              "       [1006,  909,  471, ..., 3270,  569, 4127]])"
            ]
          },
          "metadata": {},
          "execution_count": 7
        }
      ],
      "source": [
        "# import NumPy into Python\n",
        "import numpy as np\n",
        "\n",
        "# Create a 1000 x 20 ndarray with random integers in the half-open interval [0, 5001).\n",
        "X = np.random.randint(0,5001,size=(1000,20))\n",
        "X\n",
        "# print the shape of X\n"
      ]
    },
    {
      "cell_type": "markdown",
      "metadata": {
        "id": "JIYd8Ua8q-vg"
      },
      "source": [
        "Now that you created the array we will mean normalize it. We will perform mean normalization using the following equation:\n",
        "\n",
        "$\\mbox{Norm_Col}_i = \\frac{\\mbox{Col}_i - \\mu_i}{\\sigma_i}$\n",
        "\n",
        "where $\\mbox{Col}_i$ is the $i$th column of $X$, $\\mu_i$ is average of the values in the $i$th column of $X$, and $\\sigma_i$ is the standard deviation of the values in the $i$th column of $X$. In other words, mean normalization is performed by subtracting from each column of $X$ the average of its values, and then by dividing by the standard deviation of its values. In the space below, you will first calculate the average and standard deviation of each column of $X$."
      ]
    },
    {
      "cell_type": "code",
      "execution_count": 18,
      "metadata": {
        "colab": {
          "base_uri": "https://localhost:8080/"
        },
        "id": "97cXjSKjq-vh",
        "outputId": "83d44078-9c5d-4505-ca59-c947ad852216"
      },
      "outputs": [
        {
          "output_type": "stream",
          "name": "stdout",
          "text": [
            "[2387.585 2440.988 2473.533 2510.072 2483.7   2417.383 2539.21  2463.141\n",
            " 2464.173 2516.318 2599.585 2493.109 2420.93  2503.673 2488.36  2511.078\n",
            " 2488.688 2583.034 2503.553 2485.122]\n",
            "[1454.16612626 1459.95021212 1442.99764619 1437.31077948 1459.74475372\n",
            " 1435.39713052 1444.10816974 1438.27677834 1413.20096698 1431.99609946\n",
            " 1431.53624221 1451.39736982 1460.34065516 1448.27172315 1433.76620354\n",
            " 1434.95332325 1455.86588278 1425.35586954 1448.94401313 1435.67581477]\n"
          ]
        }
      ],
      "source": [
        "# Average of the values in each column of X\n",
        "ave_cols =np.mean(X,axis=0)\n",
        "print(ave_cols)\n",
        "# Standard Deviation of the values in each column of X\n",
        "std_cols =np.std(X,axis=0)\n",
        "print(std_cols)"
      ]
    },
    {
      "cell_type": "markdown",
      "metadata": {
        "id": "rcKMiGIVq-vi"
      },
      "source": [
        "If you have done the above calculations correctly, then `ave_cols` and `std_cols`, should both be vectors with shape `(20,)` since $X$ has 20 columns. You can verify this by filling the code below:"
      ]
    },
    {
      "cell_type": "code",
      "execution_count": 23,
      "metadata": {
        "colab": {
          "base_uri": "https://localhost:8080/"
        },
        "id": "2LsqXuUfq-vj",
        "outputId": "6c1a55db-57e7-4c3a-c3d6-3b342165c347"
      },
      "outputs": [
        {
          "output_type": "stream",
          "name": "stdout",
          "text": [
            "Average shape (20,)\n",
            "Standard deviation shape (20,)\n"
          ]
        }
      ],
      "source": [
        "# Print the shape of ave_cols\n",
        "\n",
        "print(\"Average shape\",ave_cols.shape)\n",
        "# Print the shape of std_cols\n",
        "print(\"Standard deviation shape\",std_cols.shape)"
      ]
    },
    {
      "cell_type": "markdown",
      "metadata": {
        "id": "n1lYY2xBq-vn"
      },
      "source": [
        "You can now take advantage of Broadcasting to calculate the mean normalized version of $X$ in just one line of code using the equation above. Fill in the code below"
      ]
    },
    {
      "cell_type": "code",
      "execution_count": 24,
      "metadata": {
        "colab": {
          "base_uri": "https://localhost:8080/"
        },
        "id": "fjMCplxmq-vo",
        "outputId": "915b250b-10af-48ca-92af-c42bace31491"
      },
      "outputs": [
        {
          "output_type": "stream",
          "name": "stdout",
          "text": [
            "[[-0.63169193  0.45002357 -1.16045442 ...  1.63605879  0.6952974\n",
            "  -0.05720094]\n",
            " [ 0.38401046 -0.42192398 -1.04472312 ... -1.1239537  -1.64019657\n",
            "  -0.5392039 ]\n",
            " [ 0.74091603  1.11100501  0.95389414 ... -0.32695975 -1.33652714\n",
            "  -1.06299903]\n",
            " ...\n",
            " [-0.71421345  0.1596027  -0.76197837 ... -0.95487312  0.62766193\n",
            "  -1.26499449]\n",
            " [-0.37862593 -0.42192398 -1.63723968 ... -0.86998204 -0.31440345\n",
            "   1.62563023]\n",
            " [-0.95008746 -1.04934263 -1.38775902 ...  0.48196104 -1.33514683\n",
            "   1.14362726]]\n"
          ]
        }
      ],
      "source": [
        "# Mean normalize X\n",
        "X_norm = (X - np.mean(X, axis=0)) / np.std(X, axis=0)\n",
        "print(X_norm)"
      ]
    },
    {
      "cell_type": "markdown",
      "metadata": {
        "id": "06tb6Zasq-vp"
      },
      "source": [
        "If you have performed the mean normalization correctly, then the average of all the elements in $X_{\\tiny{\\mbox{norm}}}$ should be close to zero, and they should be evenly distributed in some small interval around zero. You can verify this by filing the code below:"
      ]
    },
    {
      "cell_type": "code",
      "execution_count": 27,
      "metadata": {
        "colab": {
          "base_uri": "https://localhost:8080/"
        },
        "id": "Xlv-3fauq-vs",
        "outputId": "a4288f6b-b18c-4f5d-d551-036e7e4a8cf3"
      },
      "outputs": [
        {
          "output_type": "stream",
          "name": "stdout",
          "text": [
            "Average of all values in X_norm: 2.7000623958883807e-17\n",
            "Average of min value in X_norm: -1.7231267074858092\n",
            "Average of min value in X_norm: 1.739295158905143\n"
          ]
        }
      ],
      "source": [
        "# Print the average of all the values of X_norm\n",
        "\n",
        "average_total = np.mean(X_norm)\n",
        "print(\"Average of all values in X_norm:\", average_total)\n",
        "\n",
        "# Print the average of the minimum value in each column of X_norm\n",
        "average_min = np.mean(np.min(X_norm,axis=0))\n",
        "print(\"Average of min value in X_norm:\", average_min)\n",
        "\n",
        "# Print the average of the maximum value in each column of X_norm\n",
        "average_max = np.mean(np.max(X_norm,axis=0))\n",
        "print(\"Average of min value in X_norm:\", average_max)"
      ]
    },
    {
      "cell_type": "markdown",
      "metadata": {
        "id": "ANdsbW1_q-vt"
      },
      "source": [
        "You should note that since $X$ was created using random integers, the above values will vary.\n",
        "\n",
        "# Data Separation\n",
        "\n",
        "After the data has been mean normalized, it is customary in machine learnig to split our dataset into three sets:\n",
        "\n",
        "1. A Training Set\n",
        "2. A Cross Validation Set\n",
        "3. A Test Set\n",
        "\n",
        "The dataset is usually divided such that the Training Set contains 60% of the data, the Cross Validation Set contains 20% of the data, and the Test Set contains 20% of the data.\n",
        "\n",
        "In this part of the lab you will separate `X_norm` into a Training Set, Cross Validation Set, and a Test Set. Each data set will contain rows of `X_norm` chosen at random, making sure that we don't pick the same row twice. This will guarantee that all the rows of `X_norm` are chosen and randomly distributed among the three new sets.\n",
        "\n",
        "You will start by creating a rank 1 ndarray that contains a random permutation of the row indices of `X_norm`. You can do this by using the `np.random.permutation()` function. The `np.random.permutation(N)` function creates a random permutation of integers from 0 to `N - 1`. Let's see an example:"
      ]
    },
    {
      "cell_type": "code",
      "execution_count": null,
      "metadata": {
        "id": "51rvCy_dq-vu"
      },
      "outputs": [],
      "source": [
        "# We create a random permutation of integers 0 to 4\n",
        "np.random.permutation(5)"
      ]
    },
    {
      "cell_type": "markdown",
      "metadata": {
        "id": "jRS1GOO1q-vv"
      },
      "source": [
        "# To Do\n",
        "\n",
        "In the space below create a rank 1 ndarray that contains a random permutation of the row indices of `X_norm`. You can do this in one line of code by extracting the number of rows of `X_norm` using the `shape` attribute and then passing it to the  `np.random.permutation()` function. Remember the `shape` attribute returns a tuple with two numbers in the form `(rows,columns)`."
      ]
    },
    {
      "cell_type": "code",
      "execution_count": 31,
      "metadata": {
        "colab": {
          "base_uri": "https://localhost:8080/"
        },
        "id": "kMrXJcyRq-vw",
        "outputId": "b8e5fe06-7f19-491d-ba4a-48cda713f1f5"
      },
      "outputs": [
        {
          "output_type": "stream",
          "name": "stdout",
          "text": [
            "[737 680 814 880 338 887 431 514 995 333 439  90 353  82 756 409 149 841\n",
            " 112 401 366 294 238 109  27 982 192 497 603 525 542 382 450 169 890 616\n",
            " 336  69 272 177 767 727 216 893 156 834 363 886 610 960 859 274 260 454\n",
            " 738 298 371 734 762 440 275  70 656 820 383 752 898 324 517 535  85  87\n",
            " 364 494 307 722 425 482 281 873 761 319 119 280 891 879 927 567 528 459\n",
            " 599 664 775 976 178 325 832 730 240 912 484 529 113 155 612 270 580 522\n",
            " 438 378 821  20 520 125 981  95 914 568  48 507 743 128 659 629  45 292\n",
            " 874 233 971 134 706 958 845 709 907 547 345 367 620   0 959  89 503 945\n",
            " 623 126 570 263 124 967 731 798 791 279 251 199 334 250 614 496  51 925\n",
            " 618 264 434 413 644 944 121 248 337 513 627 742 432 796 214 368  61  46\n",
            " 504   8 913 736 516 412 657 899  35 140 185 537 846 271 866 632 159 211\n",
            " 309 903 488 268 483 688 186 885 585 717 225 760 604 815 396 223 395 188\n",
            " 589 341 733 793 429 686 490 487 321 634  63 154 871 452 819 850 851 806\n",
            " 940 355 267 111 259 179  33 983 564 860  96 300 753 926 950 872 105 628\n",
            " 769 902 831 241 408 505 162 947 540 870 123 534 889  88 576 491 930 556\n",
            " 108 911 882 469 234 655 786 928 318 666 197   1  23 448 978 643 777 748\n",
            "  32 854 427 509 288 163 414 778 910 316 642 988 952 150  56 975 856 339\n",
            " 937 687  17 593 222 506 809 467 810  37 781 548 625 857 701 258 695 588\n",
            " 174 313 855 783 232 181 323   9 987 138 141 406 562   2 938 202 869  78\n",
            "  39 103 243 198 840 527 715 104 977 127 550 984 639 392 129 354 269 221\n",
            " 797 712 594 849 122 658 296 729 349 949 502 403 208 531 638 965 415 579\n",
            " 130 622 970 465  94 212 811 750 763 460  38 923 402 332 921  10 592 407\n",
            " 633 747 381 200 303 714 282 663 749 330 897 391 308 183 416 661 133 158\n",
            " 696 400 228 405 637 340 974 838  44 648   7 461 606 193 566 387 591 231\n",
            " 985 667  97 681 784 118  29 991  18 458 569 718 586 678 168 120 636 468\n",
            " 194 204   5 244 961 444 171 875 252 956 552 145 698 428 492 346 242 771\n",
            " 374 650 578 646 755  67 157 861 966 455 262 896 365 471  86 328 479 739\n",
            " 384 511 765 989 617 189 167 347 203 137 411 247 732 362 787 311 538 397\n",
            "  52 611 992 908 772 410 426 165 759  12 421 419 539 446 132 699 690 153\n",
            " 191 331  11 740 235 301 261 933 973 239 286 481 551 510 253 462 703 172\n",
            " 773 315   6 843 373 774 499 398 980 863 326 376  25 702 660 745 705 682\n",
            " 206 596 894 853  30 508 794  49 668  13 597 677 305 161 142 895 322 997\n",
            " 453 449 546 515 929 106 635 435 327 463 544 557 694 256 466 533  77 878\n",
            " 826 935 114 868 524 115 343 697 135 151 842 229 837 582 865 922 361 399\n",
            " 864 990 306 180 266 357 117 441 302 417 723 679 563 359 852 909 957 708\n",
            " 924 964 369 356 613 600 478 276 265 389 351 224 195  41 143 190 335 807\n",
            " 485 107 652  98 768 689 284 795 422 201 430 352 575 418 584 608 665 649\n",
            " 901 139   4 858 278 442 170 802 948  83 314 917  28 447 746 390 512 876\n",
            "  79 257  40 289 218 839 317 647 205 543 685 812   3 573  72 741 609 954\n",
            "  59  42 486 996 998 290 291 227 942  55 152 500 451  66 615 943  81 962\n",
            " 493  16 246 785  91 719 951 779 693 443 456 344 530 553 472 254 631 972\n",
            " 388 626 764 182 220 830 379 277 721  68 245 867 711 605 100 770  60 464\n",
            " 675 823 470 287 598 565 526 102 329 766 196 803 360 554  58 312 436 495\n",
            " 653 348 671 236 541 558 621 804 735 790 293 230 590 754  54  53  57 476\n",
            " 630 877 704 713 283  71 559 523 164 176 799 147 674 906 131 692 724 915\n",
            " 320 213 219 782 489  43 672 829 883 651 968 587 136 818 209 726 498 521\n",
            " 645 304 549 394 249 919 751 833 295 299 583  92  50 285 955 501 844  80\n",
            " 215 207  74 934 624 728 561 813 904 640 445 101 144  36 393 424 916 827\n",
            " 555 707 936  93 602 881 110 673  14 475 601 669 581  26  24 986  47 595\n",
            " 532 310 480 816 892  75  34 684 744 372 641 654 931 146 836 725 953 999\n",
            " 173 342 545 963 757 572 824 210 386 148 800 519 662 848 166 536 433 941\n",
            "  65 700 358 888  19 226 619 801  62 116 477 691 900 571  99 993  84  15\n",
            "  64 776 574 184 710  73 420 560 237 788 683 577  76 377 817 518 255 862\n",
            " 808 160 676 835 720 273  21 780 457 297 187 792 375 607 825 884 847 370\n",
            " 969 716 932 789 474 758 404 473 350 946 918  31 380 939 437 994 423 905\n",
            " 217  22 920 828 670 175 822 385 979 805]\n"
          ]
        }
      ],
      "source": [
        "# Create a rank 1 ndarray that contains a random permutation of the row indices of `X_norm`\n",
        "#here 0 is used to just obtain the rows\n",
        "row_indices =np.random.permutation(X_norm.shape[0])\n",
        "\n",
        "print(row_indices)"
      ]
    },
    {
      "cell_type": "markdown",
      "metadata": {
        "id": "5AJseQUqq-vx"
      },
      "source": [
        "Now you can create the three datasets using the `row_indices` ndarray to select the rows that will go into each dataset. Rememeber that the Training Set contains 60% of the data, the Cross Validation Set contains 20% of the data, and the Test Set contains 20% of the data. Each set requires just one line of code to create. Fill in the code below"
      ]
    },
    {
      "cell_type": "code",
      "execution_count": 37,
      "metadata": {
        "id": "iPr8E38lq-vy"
      },
      "outputs": [],
      "source": [
        "# Make any necessary calculations.\n",
        "# You can save your calculations into variables to use later.\n",
        "rows = X_norm.shape[0]\n",
        "train = int(0.6 * rows)\n",
        "cv = int(0.2 * rows)\n",
        "test = rows - train - cv\n",
        "\n",
        "# Create a Training Set\n",
        "X_train =X_norm[row_indices[:train], :]\n",
        "\n",
        "# Create a Cross Validation Set\n",
        "X_crossVal =X_norm[row_indices[train:train + cv], :]\n",
        "\n",
        "# Create a Test Set\n",
        "X_test =X_norm[row_indices[train + cv:], :]\n",
        "\n"
      ]
    },
    {
      "cell_type": "markdown",
      "metadata": {
        "id": "cT7PosQsq-vz"
      },
      "source": [
        "If you performed the above calculations correctly, then `X_tain` should have 600 rows and 20 columns, `X_crossVal` should have 200 rows and 20 columns, and `X_test` should have 200 rows and 20 columns. You can verify this by filling the code below:"
      ]
    },
    {
      "cell_type": "code",
      "execution_count": 38,
      "metadata": {
        "colab": {
          "base_uri": "https://localhost:8080/"
        },
        "id": "qDjULXizq-v0",
        "outputId": "f6c88643-3ecc-4c17-aaf2-f7b6022d0b1d"
      },
      "outputs": [
        {
          "output_type": "stream",
          "name": "stdout",
          "text": [
            "Training Set shape: (600, 20)\n",
            "Cross Validation Set shape: (200, 20)\n",
            "Test Set shape: (200, 20)\n"
          ]
        }
      ],
      "source": [
        "# Print the shape of X_train\n",
        "print(\"Training Set shape:\", X_train.shape)\n",
        "\n",
        "# Print the shape of X_crossVal\n",
        "print(\"Cross Validation Set shape:\", X_crossVal.shape)\n",
        "\n",
        "# Print the shape of X_test\n",
        "print(\"Test Set shape:\", X_test.shape)"
      ]
    },
    {
      "cell_type": "code",
      "execution_count": null,
      "metadata": {
        "id": "UX_ZCfFqq-v1"
      },
      "outputs": [],
      "source": []
    }
  ],
  "metadata": {
    "kernelspec": {
      "display_name": "Python 3",
      "language": "python",
      "name": "python3"
    },
    "language_info": {
      "codemirror_mode": {
        "name": "ipython",
        "version": 3
      },
      "file_extension": ".py",
      "mimetype": "text/x-python",
      "name": "python",
      "nbconvert_exporter": "python",
      "pygments_lexer": "ipython3",
      "version": "3.6.4"
    },
    "colab": {
      "provenance": [],
      "include_colab_link": true
    }
  },
  "nbformat": 4,
  "nbformat_minor": 0
}