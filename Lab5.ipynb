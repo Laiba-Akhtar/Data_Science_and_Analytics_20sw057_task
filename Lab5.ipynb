{
  "nbformat": 4,
  "nbformat_minor": 0,
  "metadata": {
    "colab": {
      "provenance": [],
      "authorship_tag": "ABX9TyPly10j3Nm2+fQrpzbUa4HS",
      "include_colab_link": true
    },
    "kernelspec": {
      "name": "python3",
      "display_name": "Python 3"
    },
    "language_info": {
      "name": "python"
    }
  },
  "cells": [
    {
      "cell_type": "markdown",
      "metadata": {
        "id": "view-in-github",
        "colab_type": "text"
      },
      "source": [
        "<a href=\"https://colab.research.google.com/github/Laiba-Akhtar/Data_Science_and_Analytics_20sw057_task/blob/main/Lab5.ipynb\" target=\"_parent\"><img src=\"https://colab.research.google.com/assets/colab-badge.svg\" alt=\"Open In Colab\"/></a>"
      ]
    },
    {
      "cell_type": "code",
      "execution_count": 43,
      "metadata": {
        "colab": {
          "base_uri": "https://localhost:8080/"
        },
        "id": "x32iLuSfeLLX",
        "outputId": "74fcd0a7-579e-48f3-a594-d199140ab071"
      },
      "outputs": [
        {
          "output_type": "stream",
          "name": "stdout",
          "text": [
            "Series created by taking name of planets as index and distance as data\n",
            "Earth       149.6\n",
            "Saturn     1433.5\n",
            "Mars        227.9\n",
            "Venus       108.2\n",
            "Jupiter     778.6\n",
            "dtype: float64\n",
            "Divided by speed of light\n",
            "Earth       8.311111\n",
            "Saturn     79.638889\n",
            "Mars       12.661111\n",
            "Venus       6.011111\n",
            "Jupiter    43.255556\n",
            "dtype: float64\n",
            "only those planets for which sunlight takes less han 40 minutes\n",
            "Earth     8.311111\n",
            "Mars     12.661111\n",
            "Venus     6.011111\n",
            "dtype: float64\n"
          ]
        }
      ],
      "source": [
        "\n",
        "#TASK1\n",
        "\n",
        "import pandas as pd\n",
        "\n",
        "# Create a Pandas Series that contains the distance of some planets from the Sun.\n",
        "\n",
        "# Use the name of the planets as the index to your Pandas Series, and the distance\n",
        "\n",
        "# from the Sun as your data. The distance from the Sun is in units of 10^6 km\n",
        "\n",
        "distance_from_sun = [149.6, 1433.5, 227.9, 108.2, 778.6]\n",
        "\n",
        "planets = ['Earth','Saturn', 'Mars','Venus', 'Jupiter']\n",
        "\n",
        "# Create a Pandas Series using the above data, with the name of the planets as\n",
        "\n",
        "# the index and the distance from the Sun as your data.\n",
        "\n",
        "print(\"Series created by taking name of planets as index and distance as data\")\n",
        "dist_planets =pd.Series(data=distance_from_sun,index=planets)\n",
        "print(dist_planets)\n",
        "\n",
        "# Calculate the number of minutes it takes sunlight to reach each planet. You can\n",
        "\n",
        "# do this by dividing the distance from the Sun for each planet by the speed of light.\n",
        "\n",
        "# Since in the data above the distance from the Sun is in units of 10^6 km, you can\n",
        "\n",
        "# use a value for the speed of light of c = 18, since light travels 18 x 10^6 km/minute.\n",
        "print(\"Divided by speed of light\")\n",
        "speed_of_light = 18\n",
        "time_light = dist_planets / speed_of_light\n",
        "print(time_light)\n",
        "\n",
        "# Use Boolean indexing to select only those planets for which sunlight takes less\n",
        "\n",
        "# than 40 minutes to reach them.\n",
        "print(\"only those planets for which sunlight takes less han 40 minutes\")\n",
        "close_planets =time_light[time_light<40]\n",
        "print(close_planets)"
      ]
    },
    {
      "cell_type": "code",
      "source": [
        "import pandas as pd\n",
        "\n",
        "import numpy as np\n",
        "\n",
        "# Since we will be working with ratings, we will set the precision of our\n",
        "\n",
        "# dataframes to one decimal place.\n",
        "\n",
        "#pd.set_option('precision', 1)\n",
        "\n",
        "# Create a Pandas DataFrame that contains the ratings some users have given to a\n",
        "\n",
        "# series of books. The ratings given are in the range from 1 to 5, with 5 being\n",
        "\n",
        "# the best score. The names of the books, the authors, and the ratings of each user\n",
        "\n",
        "# are given below:\n",
        "\n",
        "books = pd.Series(data = ['Great Expectations', 'Of Mice and Men', 'Romeo and Juliet', 'The Time Machine', 'Alice in Wonderland' ])\n",
        "\n",
        "authors = pd.Series(data = ['Charles Dickens', 'John Steinbeck', 'William Shakespeare', ' H. G. Wells', 'Lewis Carroll' ])\n",
        "\n",
        "user_1 = pd.Series(data = [3.2, np.nan ,2.5])\n",
        "\n",
        "user_2 = pd.Series(data = [5., 1.3, 4.0, 3.8])\n",
        "\n",
        "user_3 = pd.Series(data = [2.0, 2.3, np.nan, 4])\n",
        "\n",
        "user_4 = pd.Series(data = [4, 3.5, 4, 5, 4.2])\n",
        "\n",
        "# Users that have np.nan values means that the user has not yet rated that book.\n",
        "\n",
        "# Use the data above to create a Pandas DataFrame that has the following column\n",
        "# labels: 'Author', 'Book Title', 'User 1', 'User 2', 'User 3', 'User 4'. Let Pandas\n",
        "\n",
        "# automatically assign numerical row indices to the DataFrame.\n",
        "\n",
        "# Create a dictionary with the data given above\n",
        "#pd.set_option('precision', 1)\n",
        "dat ={\n",
        "'Author': authors,\n",
        "    'Book Title': books,\n",
        "    'User 1': user_1,\n",
        "    'User 2': user_2,\n",
        "    'User 3': user_3,\n",
        "    'User 4': user_4\n",
        "\n",
        "}\n",
        "\n",
        "# Use the dictionary to create a Pandas DataFrame\n",
        "\n",
        "book_ratings =pd.DataFrame(dat)\n",
        "print(book_ratings)\n",
        "\n",
        "# If you created the dictionary correctly you should have a Pandas DataFrame\n",
        "\n",
        "# that has column labels: 'Author', 'Book Title', 'User 1', 'User 2', 'User 3',\n",
        "\n",
        "# 'User 4' and row indices 0 through 4.\n",
        "\n",
        "# Now replace all the NaN values in your DataFrame with the average rating in\n",
        "\n",
        "# each column. Replace the NaN values in place. HINT: you can use the fillna()\n",
        "\n",
        "\n",
        "# function with the keyword inplace = True, to do this. Write your code below:\n",
        "book_ratings.fillna(book_ratings.mean(),inplace=True)\n",
        "#here I am using round 1 because precision in pandas using collab was causing error\n",
        "print(book_ratings.round(1))\n",
        "\n",
        "#Best rated books\n",
        "best_rated=book_ratings[(book_ratings==5).any(axis = 1)]['Book Title'].values\n",
        "print(best_rated)"
      ],
      "metadata": {
        "colab": {
          "base_uri": "https://localhost:8080/"
        },
        "id": "PpAC3oQJhXWv",
        "outputId": "882f0c3f-10a2-4487-ea70-7589a88dd72a"
      },
      "execution_count": 40,
      "outputs": [
        {
          "output_type": "stream",
          "name": "stdout",
          "text": [
            "                Author           Book Title  User 1  User 2  User 3  User 4\n",
            "0      Charles Dickens   Great Expectations     3.2     5.0     2.0     4.0\n",
            "1       John Steinbeck      Of Mice and Men     NaN     1.3     2.3     3.5\n",
            "2  William Shakespeare     Romeo and Juliet     2.5     4.0     NaN     4.0\n",
            "3          H. G. Wells     The Time Machine     NaN     3.8     4.0     5.0\n",
            "4        Lewis Carroll  Alice in Wonderland     NaN     NaN     NaN     4.2\n",
            "                Author           Book Title  User 1  User 2  User 3  User 4\n",
            "0      Charles Dickens   Great Expectations     3.2     5.0     2.0     4.0\n",
            "1       John Steinbeck      Of Mice and Men     2.8     1.3     2.3     3.5\n",
            "2  William Shakespeare     Romeo and Juliet     2.5     4.0     2.8     4.0\n",
            "3          H. G. Wells     The Time Machine     2.8     3.8     4.0     5.0\n",
            "4        Lewis Carroll  Alice in Wonderland     2.8     3.5     2.8     4.2\n",
            "[nan nan nan nan nan]\n"
          ]
        },
        {
          "output_type": "stream",
          "name": "stderr",
          "text": [
            "<ipython-input-40-416fedab66bc>:67: FutureWarning: The default value of numeric_only in DataFrame.mean is deprecated. In a future version, it will default to False. In addition, specifying 'numeric_only=None' is deprecated. Select only valid columns or specify the value of numeric_only to silence this warning.\n",
            "  book_ratings.fillna(book_ratings.mean(),inplace=True)\n"
          ]
        }
      ]
    },
    {
      "cell_type": "code",
      "source": [],
      "metadata": {
        "id": "qGzi2Nzdj-vn"
      },
      "execution_count": 40,
      "outputs": []
    },
    {
      "cell_type": "code",
      "source": [
        "\n"
      ],
      "metadata": {
        "id": "a88XFOdxnz-j"
      },
      "execution_count": 40,
      "outputs": []
    }
  ]
}